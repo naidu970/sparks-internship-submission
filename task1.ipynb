{
  "nbformat": 4,
  "nbformat_minor": 0,
  "metadata": {
    "colab": {
      "provenance": [],
      "authorship_tag": "ABX9TyO99OuXNmVJZs23u8E5lNuC",
      "include_colab_link": true
    },
    "kernelspec": {
      "name": "python3",
      "display_name": "Python 3"
    },
    "language_info": {
      "name": "python"
    }
  },
  "cells": [
    {
      "cell_type": "markdown",
      "metadata": {
        "id": "view-in-github",
        "colab_type": "text"
      },
      "source": [
        "<a href=\"https://colab.research.google.com/github/Hairychest/sparks-manaidu-codes/blob/main/task1.ipynb\" target=\"_parent\"><img src=\"https://colab.research.google.com/assets/colab-badge.svg\" alt=\"Open In Colab\"/></a>"
      ]
    },
    {
      "cell_type": "code",
      "source": [
        "#name : Masavarapu AppalaNaidu\n",
        "#mail : manaidu2001@gmail.com"
      ],
      "metadata": {
        "id": "4IgwMfYDmuX7"
      },
      "execution_count": 41,
      "outputs": []
    },
    {
      "cell_type": "code",
      "execution_count": 42,
      "metadata": {
        "id": "T6pXfRIjeGfl",
        "colab": {
          "base_uri": "https://localhost:8080/"
        },
        "outputId": "90703838-9416-48e0-ec88-264af6c8b889"
      },
      "outputs": [
        {
          "output_type": "stream",
          "name": "stdout",
          "text": [
            "--2023-04-03 10:13:39--  https://raw.githubusercontent.com/AdiPersonalWorks/Random/master/student_scores%20-%20student_scores.csv\n",
            "Resolving raw.githubusercontent.com (raw.githubusercontent.com)... 185.199.110.133, 185.199.111.133, 185.199.109.133, ...\n",
            "Connecting to raw.githubusercontent.com (raw.githubusercontent.com)|185.199.110.133|:443... connected.\n",
            "HTTP request sent, awaiting response... 200 OK\n",
            "Length: 212 [text/plain]\n",
            "Saving to: ‘student_scores - student_scores.csv.1’\n",
            "\n",
            "student_scores - st 100%[===================>]     212  --.-KB/s    in 0s      \n",
            "\n",
            "2023-04-03 10:13:39 (6.94 MB/s) - ‘student_scores - student_scores.csv.1’ saved [212/212]\n",
            "\n"
          ]
        }
      ],
      "source": [
        "!wget https://raw.githubusercontent.com/AdiPersonalWorks/Random/master/student_scores%20-%20student_scores.csv\n"
      ]
    },
    {
      "cell_type": "code",
      "source": [
        "#importing required libraries\n",
        "import pandas as pd\n",
        "import sklearn\n",
        "from sklearn.linear_model import LinearRegression, Lasso, Ridge\n",
        "from sklearn.metrics import mean_squared_error"
      ],
      "metadata": {
        "id": "iu1X9DX-hhhS"
      },
      "execution_count": 43,
      "outputs": []
    },
    {
      "cell_type": "code",
      "source": [
        "dataset = pd.read_csv('/content/student_scores - student_scores.csv')\n",
        "print(dataset.head())\n",
        "print('number of training data',len(dataset))\n",
        "print('number of features',dataset.shape[1]-1)\n",
        "\n",
        "#creating test dataset\n",
        "test_dataset = pd.DataFrame({'Hours':[9.25]})\n",
        "print(test_dataset.head())\n",
        "\n",
        "#instantiate linear model\n",
        "lr = LinearRegression()\n",
        "lr.fit(dataset['Hours'].values.reshape(-1,1),dataset['Scores'].values.reshape(-1,1))\n",
        "\n",
        "#instantiate Lasso model\n",
        "ls = Lasso()\n",
        "ls.fit(dataset['Hours'].values.reshape(-1,1),dataset['Scores'].values.reshape(-1,1))\n",
        "\n",
        "#instantiate linear model\n",
        "rd = Ridge()\n",
        "rd.fit(dataset['Hours'].values.reshape(-1,1),dataset['Scores'].values.reshape(-1,1))\n",
        "\n",
        "#metrics on train data\n",
        "print('RMSE on training data for LinearRegression',mean_squared_error(dataset['Scores'].values.reshape(-1,1),lr.predict(dataset['Hours'].values.reshape(-1,1)),squared=False))\n",
        "print('RMSE on training data for Lasso',mean_squared_error(dataset['Scores'].values.reshape(-1,1),ls.predict(dataset['Hours'].values.reshape(-1,1)),squared=False))\n",
        "print('RMSE on training data for Ridge',mean_squared_error(dataset['Scores'].values.reshape(-1,1),rd.predict(dataset['Hours'].values.reshape(-1,1)),squared=False))\n",
        "\n",
        "\n",
        "#predicting using all models\n",
        "print('Prediction using LinearRegression',round(lr.predict(test_dataset.values.reshape(-1,1))[0,0]))\n",
        "print('Prediction using Lasso',round(ls.predict(test_dataset.values.reshape(-1,1))[0]))\n",
        "print('Prediction using Ridge',round(rd.predict(test_dataset.values.reshape(-1,1))[0,0]))\n",
        "\n",
        "# RMSE is low in case of Linear Regression, so we only use that model on testset\n",
        "print('prediction using final model on testset ',round(lr.predict(test_dataset.values.reshape(-1,1))[0,0]))"
      ],
      "metadata": {
        "colab": {
          "base_uri": "https://localhost:8080/"
        },
        "id": "6FmMj7yriVAk",
        "outputId": "fe6cd3c8-5a2d-4a31-800c-6899396c204b"
      },
      "execution_count": 48,
      "outputs": [
        {
          "output_type": "stream",
          "name": "stdout",
          "text": [
            "   Hours  Scores\n",
            "0    2.5      21\n",
            "1    5.1      47\n",
            "2    3.2      27\n",
            "3    8.5      75\n",
            "4    3.5      30\n",
            "number of training data 25\n",
            "number of features 1\n",
            "   Hours\n",
            "0   9.25\n",
            "RMSE on training data for LinearRegression 5.374265578592619\n",
            "RMSE on training data for Lasso 5.389443478935067\n",
            "RMSE on training data for Ridge 5.376559080793204\n",
            "Prediction using LinearRegression 93\n",
            "Prediction using Lasso 92\n",
            "Prediction using Ridge 93\n",
            "prediction using final model on testset  93\n"
          ]
        }
      ]
    }
  ]
}